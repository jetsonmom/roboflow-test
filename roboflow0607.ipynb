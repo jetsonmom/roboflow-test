{
  "nbformat": 4,
  "nbformat_minor": 0,
  "metadata": {
    "colab": {
      "provenance": [],
      "authorship_tag": "ABX9TyMIEV1N+/T20k/XQ1gnIZwx",
      "include_colab_link": true
    },
    "kernelspec": {
      "name": "python3",
      "display_name": "Python 3"
    },
    "language_info": {
      "name": "python"
    }
  },
  "cells": [
    {
      "cell_type": "markdown",
      "metadata": {
        "id": "view-in-github",
        "colab_type": "text"
      },
      "source": [
        "<a href=\"https://colab.research.google.com/github/jetsonmom/roboflow-test/blob/main/roboflow0607.ipynb\" target=\"_parent\"><img src=\"https://colab.research.google.com/assets/colab-badge.svg\" alt=\"Open In Colab\"/></a>"
      ]
    },
    {
      "cell_type": "code",
      "source": [
        "!nvidia-smi"
      ],
      "metadata": {
        "id": "JX0IxLuI6PLV"
      },
      "execution_count": null,
      "outputs": []
    },
    {
      "cell_type": "code",
      "source": [
        "import os\n",
        "HOME = os.getcwd()\n",
        "print(HOME)"
      ],
      "metadata": {
        "id": "PRJnLNol6ROp"
      },
      "execution_count": null,
      "outputs": []
    },
    {
      "cell_type": "code",
      "source": [
        "# Pip install method (recommended)\n",
        "\n",
        "!pip install ultralytics==8.0.196\n",
        "\n",
        "from IPython import display\n",
        "display.clear_output()\n",
        "\n",
        "import ultralytics\n",
        "ultralytics.checks()"
      ],
      "metadata": {
        "id": "YoPas9mq6UYc"
      },
      "execution_count": null,
      "outputs": []
    },
    {
      "cell_type": "code",
      "source": [
        "# Git clone method (for development)\n",
        "\n",
        "%cd {HOME}\n",
        "!git clone github.com/ultralytics/ultralytics\n",
        "%cd {HOME}/ultralytics\n",
        "!pip install -e .\n",
        "\n",
        "from IPython import display\n",
        "display.clear_output()\n",
        "\n",
        "import ultralytics\n",
        "ultralytics.checks()"
      ],
      "metadata": {
        "id": "2aZfBz1g6Xpe"
      },
      "execution_count": null,
      "outputs": []
    },
    {
      "cell_type": "markdown",
      "source": [
        "cli 예제_dog detection picture"
      ],
      "metadata": {
        "id": "fYcIaoTP6xo_"
      }
    },
    {
      "cell_type": "code",
      "source": [
        "%cd {HOME}\n",
        "!yolo task=detect mode=predict model=yolov8n.pt conf=0.25 source='https://media.roboflow.com/notebooks/examples/dog.jpeg' save=True"
      ],
      "metadata": {
        "id": "EdSDrsxF6tfI"
      },
      "execution_count": null,
      "outputs": []
    },
    {
      "cell_type": "code",
      "source": [
        "%cd {HOME}\n",
        "Image(filename='runs/detect/predict/dog.jpeg', height=600)"
      ],
      "metadata": {
        "id": "I1dNWPyR7G0w"
      },
      "execution_count": null,
      "outputs": []
    },
    {
      "cell_type": "markdown",
      "source": [
        "🐍 Python SDK"
      ],
      "metadata": {
        "id": "G0HVbiHe7KrP"
      }
    },
    {
      "cell_type": "code",
      "source": [
        "model = YOLO(f'{HOME}/yolov8n.pt')\n",
        "results = model.predict(source='https://media.roboflow.com/notebooks/examples/dog.jpeg', conf=0.25)"
      ],
      "metadata": {
        "id": "-sihhLk57PG-"
      },
      "execution_count": null,
      "outputs": []
    },
    {
      "cell_type": "code",
      "source": [
        "from ultralytics import YOLO\n",
        "\n",
        "from IPython.display import display, Image"
      ],
      "metadata": {
        "id": "0byjC2Ys6mL2"
      },
      "execution_count": null,
      "outputs": []
    },
    {
      "cell_type": "code",
      "source": [
        "results[0].boxes.conf"
      ],
      "metadata": {
        "id": "p82RWMKh7TbO"
      },
      "execution_count": null,
      "outputs": []
    },
    {
      "cell_type": "code",
      "source": [
        "results[0].boxes.cls"
      ],
      "metadata": {
        "id": "ffptE2Ui7VT0"
      },
      "execution_count": null,
      "outputs": []
    },
    {
      "cell_type": "markdown",
      "source": [
        "축구선수 디텍트"
      ],
      "metadata": {
        "id": "o3-EUpp97ftJ"
      }
    },
    {
      "cell_type": "code",
      "source": [
        "!mkdir {HOME}/datasets\n",
        "%cd {HOME}/datasets\n",
        "\n",
        "!pip install roboflow --quiet\n",
        "\n",
        "from roboflow import Roboflow\n",
        "rf = Roboflow(api_key=\"YOUR_API_KEY\")\n",
        "project = rf.workspace(\"roboflow-jvuqo\").project(\"football-players-detection-3zvbc\")\n",
        "dataset = project.version(1).download(\"yolov8\")"
      ],
      "metadata": {
        "id": "yladOwUD7kWC"
      },
      "execution_count": null,
      "outputs": []
    },
    {
      "cell_type": "markdown",
      "source": [
        "custom detect training"
      ],
      "metadata": {
        "id": "r079ECsC7t7q"
      }
    },
    {
      "cell_type": "code",
      "source": [
        "%cd {HOME}\n",
        "\n",
        "!yolo task=detect mode=train model=yolov8s.pt data={dataset.location}/data.yaml epochs=25 imgsz=800 plots=True"
      ],
      "metadata": {
        "id": "NQGuvXuC72kk"
      },
      "execution_count": null,
      "outputs": []
    },
    {
      "cell_type": "code",
      "source": [
        "!ls {HOME}/runs/detect/train/"
      ],
      "metadata": {
        "id": "rZ6jeU7R76f_"
      },
      "execution_count": null,
      "outputs": []
    },
    {
      "cell_type": "code",
      "source": [
        "%cd {HOME}\n",
        "Image(filename=f'{HOME}/runs/detect/train/confusion_matrix.png', width=600)"
      ],
      "metadata": {
        "id": "v9n9c4gl786S"
      },
      "execution_count": null,
      "outputs": []
    },
    {
      "cell_type": "code",
      "source": [
        "%cd {HOME}\n",
        "Image(filename=f'{HOME}/runs/detect/train/results.png', width=600)"
      ],
      "metadata": {
        "id": "zwl4L1Su7_cM"
      },
      "execution_count": null,
      "outputs": []
    },
    {
      "cell_type": "code",
      "source": [
        "%cd {HOME}\n",
        "Image(filename=f'{HOME}/runs/detect/train/val_batch0_pred.jpg', width=600)"
      ],
      "metadata": {
        "id": "K-pODYlS8B0c"
      },
      "execution_count": null,
      "outputs": []
    },
    {
      "cell_type": "markdown",
      "source": [
        "Validate Custom Model"
      ],
      "metadata": {
        "id": "N7mM_cOZ8Fjn"
      }
    },
    {
      "cell_type": "code",
      "source": [
        "%cd {HOME}\n",
        "\n",
        "!yolo task=detect mode=val model={HOME}/runs/detect/train/weights/best.pt data={dataset.location}/data.yaml"
      ],
      "metadata": {
        "id": "ZS3flvNx8GZV"
      },
      "execution_count": null,
      "outputs": []
    },
    {
      "cell_type": "markdown",
      "source": [
        "Inference with Custom Model"
      ],
      "metadata": {
        "id": "brluAa8I8MkQ"
      }
    },
    {
      "cell_type": "code",
      "source": [
        "%cd {HOME}\n",
        "!yolo task=detect mode=predict model={HOME}/runs/detect/train/weights/best.pt conf=0.25 source={dataset.location}/test/images save=True"
      ],
      "metadata": {
        "id": "SeECGrUC8Naj"
      },
      "execution_count": null,
      "outputs": []
    },
    {
      "cell_type": "markdown",
      "source": [
        "results"
      ],
      "metadata": {
        "id": "He_48WHQ8W9W"
      }
    },
    {
      "cell_type": "code",
      "source": [
        "import glob\n",
        "from IPython.display import Image, display\n",
        "\n",
        "for image_path in glob.glob(f'{HOME}/runs/detect/predict3/*.jpg')[:3]:\n",
        "      display(Image(filename=image_path, width=600))\n",
        "      print(\"\\n\")"
      ],
      "metadata": {
        "id": "J_VFn3bT8Yph"
      },
      "execution_count": null,
      "outputs": []
    },
    {
      "cell_type": "markdown",
      "source": [
        "Roboflow에 모델 배포\n",
        "YOLOv8 모델 학습을 마치면 사용할 수 있는 학습된 가중치 세트가 준비됩니다. 이러한 가중치는 프로젝트의 /runs/Detect/train/weights/best.pt 폴더에 있습니다. 모델 가중치를 Roboflow Deploy에 업로드하여 무한히 확장 가능한 인프라에서 훈련된 가중치를 사용할 수 있습니다.\n",
        "\n",
        "Roboflow pip 패키지의 .deploy() 함수는 이제 YOLOv8 가중치 업로드를 지원합니다.\n",
        "\n",
        "모델 가중치를 업로드하려면 앞서 언급한 노트북의 \"사용자 정의 모델 추론\" 섹션에 다음 코드를 추가하세요."
      ],
      "metadata": {
        "id": "dlPYf3hI8d9h"
      }
    },
    {
      "cell_type": "code",
      "source": [
        "project.version(dataset.version).deploy(model_type=\"yolov8\", model_path=f\"{HOME}/runs/detect/train/\")"
      ],
      "metadata": {
        "id": "mfxg06On8rKN"
      },
      "execution_count": null,
      "outputs": []
    },
    {
      "cell_type": "code",
      "source": [
        "#While your deployment is processing, checkout the deployment docs to take your model to most destinations https://docs.roboflow.com/inference"
      ],
      "metadata": {
        "id": "YT6UOvFW8vjt"
      },
      "execution_count": null,
      "outputs": []
    },
    {
      "cell_type": "code",
      "source": [
        "#Run inference on your model on a persistant, auto-scaling, cloud API\n",
        "\n",
        "#load model\n",
        "model = project.version(dataset.version).model\n",
        "\n",
        "#choose random test set image\n",
        "import os, random\n",
        "test_set_loc = dataset.location + \"/test/images/\"\n",
        "random_test_image = random.choice(os.listdir(test_set_loc))\n",
        "print(\"running inference on \" + random_test_image)\n",
        "\n",
        "pred = model.predict(test_set_loc + random_test_image, confidence=40, overlap=30).json()\n",
        "pred"
      ],
      "metadata": {
        "id": "b1V16D568zpL"
      },
      "execution_count": null,
      "outputs": []
    },
    {
      "cell_type": "code",
      "source": [],
      "metadata": {
        "id": "rpAFQAUq7tKw"
      },
      "execution_count": null,
      "outputs": []
    },
    {
      "cell_type": "code",
      "execution_count": null,
      "metadata": {
        "id": "4_Lks5n31Dp3"
      },
      "outputs": [],
      "source": [
        "import os\n",
        "import shutil\n",
        "import glob\n",
        "import moviepy.editor as mp\n",
        "\n",
        "\n",
        "# HOME 경로 설정\n",
        "HOME = \"/content\"\n",
        "\n",
        "\n",
        "# YOLO 명령어 실행\n",
        "os.chdir(HOME)\n",
        "!yolo task=detect mode=predict model=runs/detect/train/weights/best.pt conf=0.05 source=/content/data/test.mp4 save=True\n",
        "\n",
        "\n",
        "# 출력 디렉토리 찾기\n",
        "output_dirs = sorted(glob.glob(os.path.join(HOME, \"runs\", \"detect\", \"predict*\")), key=os.path.getmtime, reverse=True)\n",
        "latest_output_dir = output_dirs[0] if output_dirs else None\n",
        "\n",
        "\n",
        "if latest_output_dir:\n",
        "    # 결과 파일 경로\n",
        "    output_file = os.path.join(latest_output_dir, \"test.mp4\")\n",
        "    target_file = \"/content/data/test1-1/test/test_output.mp4\"\n",
        "\n",
        "    if os.path.exists(output_file):\n",
        "        # .avi 파일을 .mp4 파일로 변환\n",
        "        video_clip = mp.VideoFileClip(output_file)\n",
        "        video_clip.write_videofile(target_file, codec='libx264')\n",
        "        print(f\"Processed video saved as {target_file}\")\n",
        "    else:\n",
        "        print(\"Error: The output video file was not found.\")\n",
        "else:\n",
        "    print(\"Error: The output directory was not found.\")\n"
      ]
    }
  ]
}