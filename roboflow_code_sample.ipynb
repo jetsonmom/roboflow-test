{
  "nbformat": 4,
  "nbformat_minor": 0,
  "metadata": {
    "colab": {
      "private_outputs": true,
      "provenance": [],
      "include_colab_link": true
    },
    "kernelspec": {
      "name": "python3",
      "display_name": "Python 3"
    },
    "language_info": {
      "name": "python"
    }
  },
  "cells": [
    {
      "cell_type": "markdown",
      "metadata": {
        "id": "view-in-github",
        "colab_type": "text"
      },
      "source": [
        "<a href=\"https://colab.research.google.com/github/jetsonmom/roboflow-test/blob/main/roboflow_code_sample.ipynb\" target=\"_parent\"><img src=\"https://colab.research.google.com/assets/colab-badge.svg\" alt=\"Open In Colab\"/></a>"
      ]
    },
    {
      "cell_type": "code",
      "source": [
        "%pip install Roboflow"
      ],
      "metadata": {
        "id": "TKLCkmyjVQfe"
      },
      "execution_count": null,
      "outputs": []
    },
    {
      "cell_type": "code",
      "execution_count": null,
      "metadata": {
        "id": "RaKNC4i0VFjj"
      },
      "outputs": [],
      "source": [
        "from roboflow import Roboflow\n",
        "rf = Roboflow(api_key=\"XXXXXXXX\")\n",
        "project = rf.workspace().project(\"lane_jetsonmom\") #model end point\n",
        "model = project.version(3).model\n",
        "\n",
        "# infer on a local image\n",
        "print(model.predict(\"/content/sample_data/lane1.jpg\", confidence=40, overlap=30).json())\n",
        "\n",
        "# visualize your prediction\n",
        "#model.predict(\"your_image.jpg\", confidence=40, overlap=30).save(\"prediction.jpg\")\n",
        "\n",
        "# infer on an image hosted elsewhere\n",
        "#print(model.predict(\"URL_OF_YOUR_IMAGE\", hosted=True, confidence=40, overlap=30).json())"
      ]
    },
    {
      "cell_type": "code",
      "source": [
        "from roboflow import Roboflow\n",
        "import matplotlib.pyplot as plt\n",
        "import matplotlib.image as mpimg\n",
        "\n",
        "# Your API key and model loading\n",
        "rf = Roboflow(api_key=\"nHzqEuoiMsMPExQOq3qo\")\n",
        "project = rf.workspace().project(\"lane_jetsonmom\") #model end point\n",
        "model = project.version(3).model\n",
        "\n",
        "# Load and display the image\n",
        "img_path = \"/content/sample_data/lane1.jpg\"  # Adjust the path to where your image is\n",
        "img = mpimg.imread(img_path)\n",
        "plt.imshow(img)\n",
        "plt.show()\n",
        "\n",
        "# Make predictions\n",
        "prediction = model.predict(img_path, confidence=10, overlap=30)\n",
        "print(prediction.json())  # Display the JSON output\n",
        "\n",
        "# Save and display the prediction visualization\n",
        "prediction_image_path = \"prediction.jpg\"\n",
        "model.predict(img_path, confidence=15, overlap=30).save(prediction_image_path)\n",
        "pred_img = mpimg.imread(prediction_image_path)\n",
        "plt.imshow(pred_img)\n",
        "plt.show()\n"
      ],
      "metadata": {
        "id": "8LrBKn11d_U2"
      },
      "execution_count": null,
      "outputs": []
    },
    {
      "cell_type": "code",
      "source": [
        "import cv2\n",
        "from roboflow import Roboflow\n",
        "import matplotlib.pyplot as plt\n",
        "\n",
        "# Roboflow API 설정\n",
        "rf = Roboflow(api_key=\"XXXXXXXX\")\n",
        "project = rf.workspace().project(\"lane_jetsonmom\") #model end point\n",
        "model = project.version(3).model\n",
        "\n",
        "# 비디오 파일 열기\n",
        "cap = cv2.VideoCapture('/content/sample_data/video.mp4')\n",
        "\n",
        "# 비디오가 열리지 않았다면 종료\n",
        "if not cap.isOpened():\n",
        "    print(\"Error: Could not open video.\")\n",
        "    exit()\n",
        "\n",
        "# 프레임별로 읽기\n",
        "while cap.isOpened():\n",
        "    ret, frame = cap.read()\n",
        "    if not ret:\n",
        "        break\n",
        "\n",
        "    # OpenCV 이미지를 RGB로 변환 (출력용)\n",
        "    rgb_image = cv2.cvtColor(frame, cv2.COLOR_BGR2RGB)\n",
        "\n",
        "    # 파일로 임시 저장\n",
        "    cv2.imwrite('temp_frame.jpg', frame)\n",
        "\n",
        "    # 모델 예측\n",
        "    prediction = model.predict('temp_frame.jpg', confidence=10, overlap=30)\n",
        "    print(prediction.json())\n"
      ],
      "metadata": {
        "id": "9U1xALpme-sv"
      },
      "execution_count": null,
      "outputs": []
    },
    {
      "cell_type": "code",
      "source": [
        "import cv2\n",
        "from roboflow import Roboflow\n",
        "import matplotlib.pyplot as plt\n",
        "import matplotlib.patches as patches\n",
        "from PIL import Image\n",
        "\n",
        "# Roboflow API 설정\n",
        "rf = Roboflow(api_key=\"nHzqEuoiMsMPExQOq3qo\")\n",
        "project = rf.workspace().project(\"lane_jetsonmom\")\n",
        "model = project.version(3).model\n",
        "\n",
        "# 비디오 파일 열기\n",
        "cap = cv2.VideoCapture('/content/sample_data/video.mp4')\n",
        "\n",
        "# 비디오가 열리지 않았다면 종료\n",
        "if not cap.isOpened():\n",
        "    print(\"Error: Could not open video.\")\n",
        "    exit()\n",
        "\n",
        "# 프레임별로 읽기\n",
        "while cap.isOpened():\n",
        "    ret, frame = cap.read()\n",
        "    if not ret:\n",
        "        break\n",
        "\n",
        "    # 파일로 임시 저장\n",
        "    cv2.imwrite('temp_frame.jpg', frame)\n",
        "\n",
        "    # 모델 예측\n",
        "    prediction = model.predict('temp_frame.jpg', confidence=10, overlap=30).json()\n",
        "\n",
        "    # 이미지를 matplotlib로 로드\n",
        "    img = Image.open('temp_frame.jpg')\n",
        "    fig, ax = plt.subplots(1)\n",
        "    ax.imshow(img)\n",
        "\n",
        "    # 바운딩 박스 그리기\n",
        "    for obj in prediction['predictions']:\n",
        "        rect = patches.Rectangle((obj['x'], obj['y']), obj['width'], obj['height'], linewidth=1, edgecolor='r', facecolor='none')\n",
        "        ax.add_patch(rect)\n",
        "\n",
        "    plt.show()\n"
      ],
      "metadata": {
        "id": "OZjGJz81LiKA"
      },
      "execution_count": null,
      "outputs": []
    },
    {
      "cell_type": "code",
      "source": [
        "import cv2\n",
        "from roboflow import Roboflow\n",
        "import matplotlib.pyplot as plt\n",
        "import matplotlib.patches as patches\n",
        "import numpy as np\n",
        "from PIL import Image\n",
        "import io\n",
        "\n",
        "# Roboflow API 설정\n",
        "rf = Roboflow(api_key=\"nHzqEuoiMsMPExQOq3qo\")\n",
        "project = rf.workspace().project(\"lane_jetsonmom\")\n",
        "model = project.version(3).model\n",
        "\n",
        "# 비디오 파일 열기\n",
        "cap = cv2.VideoCapture('/content/sample_data/video.mp4')\n",
        "\n",
        "# 비디오가 열리지 않았다면 종료\n",
        "if not cap.isOpened():\n",
        "    print(\"Error: Could not open video.\")\n",
        "    exit()\n",
        "\n",
        "# 프레임별로 읽기\n",
        "while cap.isOpened():\n",
        "    ret, frame = cap.read()\n",
        "    if not ret:\n",
        "        break\n",
        "\n",
        "    # 프레임을 PIL 이미지로 변환\n",
        "    frame_rgb = cv2.cvtColor(frame, cv2.COLOR_BGR2RGB)\n",
        "    img_pil = Image.fromarray(frame_rgb)\n",
        "\n",
        "    # 메모리에 이미지를 임시 저장\n",
        "    buf = io.BytesIO()\n",
        "    img_pil.save(buf, format='JPEG')\n",
        "    byte_im = buf.getvalue()\n",
        "\n",
        "    # 모델 예측\n",
        "    prediction = model.predict(byte_im, confidence=10, overlap=30).json()\n",
        "\n",
        "    # 이미지를 matplotlib로 로드\n",
        "    fig, ax = plt.subplots(1)\n",
        "    ax.imshow(img_pil)\n",
        "\n",
        "    # 바운딩 박스 그리기\n",
        "    for obj in prediction['predictions']:\n",
        "        rect = patches.Rectangle((obj['x'], obj['y']), obj['width'], obj['height'], linewidth=1, edgecolor='r', facecolor='none')\n",
        "        ax.add_patch(rect)\n",
        "\n",
        "    plt.show()\n",
        "    plt.close()  # 다음 프레임을 위해 그래프를 닫음\n",
        "\n",
        "# 작업 완료 후 자원 해제\n",
        "cap.release()\n"
      ],
      "metadata": {
        "id": "dTH8xgMfTnyC"
      },
      "execution_count": null,
      "outputs": []
    },
    {
      "cell_type": "code",
      "source": [
        "import cv2\n",
        "from roboflow import Roboflow\n",
        "\n",
        "# Roboflow API 설정\n",
        "rf = Roboflow(api_key=\"nHzqEuoiMsMPExQOq3qo\")\n",
        "project = rf.workspace().project(\"lane_jetsonmom\")\n",
        "model = project.version(3).model\n",
        "\n",
        "# 비디오 파일 열기\n",
        "cap = cv2.VideoCapture('/content/sample_data/video.mp4')\n",
        "out = cv2.VideoWriter('output.mp4', cv2.VideoWriter_fourcc(*'mp4v'), 20.0, (int(cap.get(3)), int(cap.get(4))))\n",
        "\n",
        "if not cap.isOpened():\n",
        "    print(\"Error: Could not open video.\")\n",
        "    exit()\n",
        "\n",
        "while(cap.isOpened()):\n",
        "    ret, frame = cap.read()\n",
        "    if not ret:\n",
        "        break\n",
        "\n",
        "    # 파일로 임시 저장\n",
        "    cv2.imwrite('temp_frame.jpg', frame)\n",
        "\n",
        "    # 모델 예측\n",
        "    prediction = model.predict('temp_frame.jpg', confidence=10, overlap=30).json()\n",
        "\n",
        "    # 바운딩 박스 그리기\n",
        "    for obj in prediction['predictions']:\n",
        "        cv2.rectangle(frame, (int(obj['x']), int(obj['y'])), (int(obj['x'] + obj['width']), int(obj['y'] + obj['height'])), (0, 255, 0), 2)\n",
        "\n",
        "    # 변형된 프레임을 비디오로 저장\n",
        "    out.write(frame)\n",
        "\n",
        "cap.release()\n",
        "out.release()\n",
        "\n",
        "# 비디오 파일을 다운로드\n",
        "from google.colab import files\n",
        "files.download('output.mp4')\n"
      ],
      "metadata": {
        "id": "OwMTL5pRLkAs"
      },
      "execution_count": null,
      "outputs": []
    }
  ]
}