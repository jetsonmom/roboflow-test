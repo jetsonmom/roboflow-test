{
  "nbformat": 4,
  "nbformat_minor": 0,
  "metadata": {
    "colab": {
      "private_outputs": true,
      "provenance": [],
      "gpuType": "T4",
      "authorship_tag": "ABX9TyMOyDLO7fIv7pxISfNnrZOS",
      "include_colab_link": true
    },
    "kernelspec": {
      "name": "python3",
      "display_name": "Python 3"
    },
    "language_info": {
      "name": "python"
    },
    "accelerator": "GPU"
  },
  "cells": [
    {
      "cell_type": "markdown",
      "metadata": {
        "id": "view-in-github",
        "colab_type": "text"
      },
      "source": [
        "<a href=\"https://colab.research.google.com/github/jetsonmom/roboflow-test/blob/main/%EC%A0%84%EC%9D%B4%ED%95%99%EC%8A%B5%EC%8B%A4%ED%8C%A8.ipynb\" target=\"_parent\"><img src=\"https://colab.research.google.com/assets/colab-badge.svg\" alt=\"Open In Colab\"/></a>"
      ]
    },
    {
      "cell_type": "code",
      "source": [
        "!pip install ultralytics\n"
      ],
      "metadata": {
        "id": "f-cu-VR3zxq4"
      },
      "execution_count": null,
      "outputs": []
    },
    {
      "cell_type": "code",
      "execution_count": null,
      "metadata": {
        "id": "sQvhAU7Uylmp"
      },
      "outputs": [],
      "source": [
        "!pip install roboflow\n",
        "\n",
        "from roboflow import Roboflow\n",
        "rf = Roboflow(api_key=\"nHzqEuoiMsMPExQOq3qo\")\n",
        "project = rf.workspace(\"sungsook-jang\").project(\"car-_recognition\")\n",
        "version = project.version(2)\n",
        "dataset = version.download(\"yolov8\")\n",
        ""
      ]
    },
    {
      "cell_type": "markdown",
      "source": [
        "모델 학습 (30 에포크)"
      ],
      "metadata": {
        "id": "KFx5JxTOAXlw"
      }
    },
    {
      "cell_type": "markdown",
      "source": [
        "전이학습"
      ],
      "metadata": {
        "id": "sT4ZlY5azflT"
      }
    },
    {
      "cell_type": "code",
      "source": [
        "!pip install ultralytics roboflow\n",
        "\n",
        "from roboflow import Roboflow\n",
        "rf = Roboflow(api_key=\"nHzqEuoiMsMPExQOq3qo\")\n",
        "project = rf.workspace(\"sungsook-jang\").project(\"car-_recognition\")\n",
        "version = project.version(2)\n",
        "dataset = version.download(\"yolov8\")\n",
        "\n",
        "from ultralytics import YOLO\n",
        "\n",
        "# 사전 학습된 모델 로드\n",
        "model = YOLO('yolov8x.pt')\n",
        "\n",
        "# 커스텀 데이터셋으로 학습\n",
        "model.train(data='/content/Car-_recognition-2/data.yaml', epochs=30)\n",
        "\n"
      ],
      "metadata": {
        "id": "NDFPb4751UPP"
      },
      "execution_count": null,
      "outputs": []
    },
    {
      "cell_type": "markdown",
      "source": [
        "3. 학습된 모델을 사용한 비디오 추론"
      ],
      "metadata": {
        "id": "NusTnUxmACDB"
      }
    },
    {
      "cell_type": "code",
      "source": [
        "# 필요한 라이브러리 설치\n",
        "!pip install ultralytics roboflow\n",
        "\n",
        "# 필요한 모듈 임포트\n",
        "from ultralytics import YOLO\n",
        "import cv2\n",
        "\n",
        "# Roboflow에서 데이터셋 다운로드 (이미 수행했다면 이 부분은 생략 가능)\n",
        "from roboflow import Roboflow\n",
        "rf = Roboflow(api_key=\"nHzqEuoiMsMPExQOq3qo\")\n",
        "project = rf.workspace(\"sungsook-jang\").project(\"car-_recognition\")\n",
        "version = project.version(2)\n",
        "dataset = version.download(\"yolov8\")\n",
        "\n",
        "# 전이학습된 모델 로드\n",
        "model = YOLO('runs/detect/train/weights/best.pt')  # 실제 경로로 변경하세요\n",
        "\n",
        "# 비디오 파일 경로\n",
        "video_path = \"path/to/your/video.mp4\"  # 실제 비디오 파일 경로로 변경하세요\n",
        "\n",
        "# 비디오 캡처 객체 생성\n",
        "cap = cv2.VideoCapture(video_path)\n",
        "\n",
        "while cap.isOpened():\n",
        "    # 프레임 읽기\n",
        "    success, frame = cap.read()\n",
        "    if not success:\n",
        "        break\n",
        "\n",
        "    # YOLOv8로 객체 감지\n",
        "    results = model(frame)\n",
        "\n",
        "    # 결과 시각화\n",
        "    annotated_frame = results[0].plot()\n",
        "\n",
        "    # 결과 표시\n",
        "    cv2.imshow(\"YOLOv8 Inference\", annotated_frame)\n",
        "\n",
        "    # 'q' 키를 누르면 종료\n",
        "    if cv2.waitKey(1) & 0xFF == ord(\"q\"):\n",
        "        break\n",
        "\n",
        "# 리소스 해제\n",
        "cap.release()\n",
        "cv2.destroyAllWindows()\n"
      ],
      "metadata": {
        "id": "Azz-cRh-AIIl"
      },
      "execution_count": null,
      "outputs": []
    }
  ]
}